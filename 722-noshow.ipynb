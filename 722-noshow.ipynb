{
 "cells": [
  {
   "cell_type": "code",
   "execution_count": 1,
   "metadata": {},
   "outputs": [
    {
     "name": "stdout",
     "output_type": "stream",
     "text": [
      "Defaulting to user installation because normal site-packages is not writeable\n",
      "Requirement already up-to-date: pip in ./.local/lib/python3.5/site-packages (20.1.1)\n",
      "Defaulting to user installation because normal site-packages is not writeable\n",
      "Requirement already satisfied: sklearn in ./.local/lib/python3.5/site-packages (0.0)\n",
      "Requirement already satisfied: scikit-learn in ./.local/lib/python3.5/site-packages (from sklearn) (0.22.2.post1)\n",
      "Requirement already satisfied: joblib>=0.11 in ./.local/lib/python3.5/site-packages (from scikit-learn->sklearn) (0.14.1)\n",
      "Requirement already satisfied: scipy>=0.17.0 in ./.local/lib/python3.5/site-packages (from scikit-learn->sklearn) (1.4.1)\n",
      "Requirement already satisfied: numpy>=1.11.0 in ./.local/lib/python3.5/site-packages (from scikit-learn->sklearn) (1.18.4)\n",
      "Defaulting to user installation because normal site-packages is not writeable\n",
      "Requirement already satisfied: seaborn in ./.local/lib/python3.5/site-packages (0.9.1)\n",
      "Requirement already satisfied: matplotlib>=1.5.3 in ./.local/lib/python3.5/site-packages (from seaborn) (2.2.2)\n",
      "Requirement already satisfied: numpy>=1.10.4 in ./.local/lib/python3.5/site-packages (from seaborn) (1.18.4)\n",
      "Requirement already satisfied: scipy>=0.17.1 in ./.local/lib/python3.5/site-packages (from seaborn) (1.4.1)\n",
      "Requirement already satisfied: pandas>=0.17.1 in ./.local/lib/python3.5/site-packages (from seaborn) (0.23.4)\n",
      "Requirement already satisfied: pyparsing!=2.0.4,!=2.1.2,!=2.1.6,>=2.0.1 in ./.local/lib/python3.5/site-packages (from matplotlib>=1.5.3->seaborn) (2.2.0)\n",
      "Requirement already satisfied: cycler>=0.10 in ./.local/lib/python3.5/site-packages (from matplotlib>=1.5.3->seaborn) (0.10.0)\n",
      "Requirement already satisfied: six>=1.10 in ./.local/lib/python3.5/site-packages (from matplotlib>=1.5.3->seaborn) (1.11.0)\n",
      "Requirement already satisfied: python-dateutil>=2.1 in ./.local/lib/python3.5/site-packages (from matplotlib>=1.5.3->seaborn) (2.7.3)\n",
      "Requirement already satisfied: pytz in ./.local/lib/python3.5/site-packages (from matplotlib>=1.5.3->seaborn) (2018.5)\n",
      "Requirement already satisfied: kiwisolver>=1.0.1 in ./.local/lib/python3.5/site-packages (from matplotlib>=1.5.3->seaborn) (1.0.1)\n",
      "Requirement already satisfied: setuptools in ./.local/lib/python3.5/site-packages (from kiwisolver>=1.0.1->matplotlib>=1.5.3->seaborn) (39.2.0)\n"
     ]
    }
   ],
   "source": [
    "import findspark \n",
    "findspark.init('/home/ubuntu/spark-2.1.1-bin-hadoop2.7')\n",
    "import pyspark\n",
    "from pyspark.sql import SparkSession\n",
    "spark = SparkSession.builder.appName('noshow').getOrCreate()\n",
    "\n",
    "!pip3 install --upgrade pip\n",
    "!pip3 install sklearn\n",
    "\n",
    "!pip3 install seaborn\n",
    "\n",
    "import seaborn as sns\n",
    "from sklearn import tree\n",
    "import pandas as pd\n",
    "import numpy as np"
   ]
  },
  {
   "cell_type": "code",
   "execution_count": 2,
   "metadata": {},
   "outputs": [],
   "source": [
    "df= spark.read.csv('./noshow.csv',inferSchema=True,header=True)"
   ]
  },
  {
   "cell_type": "code",
   "execution_count": 3,
   "metadata": {},
   "outputs": [
    {
     "name": "stdout",
     "output_type": "stream",
     "text": [
      "(110527, 14)\n"
     ]
    }
   ],
   "source": [
    "df.printSchema\n",
    "\n",
    "print((df.count(), len(df.columns)))"
   ]
  },
  {
   "cell_type": "code",
   "execution_count": 4,
   "metadata": {},
   "outputs": [
    {
     "name": "stdout",
     "output_type": "stream",
     "text": [
      "+-------------------+-------------+------+--------------------+--------------------+---+-----------------+-----------+------------+--------+----------+-------+------------+-------+\n",
      "|          PatientId|AppointmentID|Gender|        ScheduledDay|      AppointmentDay|Age|    Neighbourhood|Scholarship|Hipertension|Diabetes|Alcoholism|Handcap|SMS_received|No-show|\n",
      "+-------------------+-------------+------+--------------------+--------------------+---+-----------------+-----------+------------+--------+----------+-------+------------+-------+\n",
      "| 2.9872499824296E13|      5642903|     F|2016-04-29 18:38:...|2016-04-29 00:00:...| 62|  JARDIM DA PENHA|          0|           1|       0|         0|      0|           0|     No|\n",
      "|5.58997776694438E14|      5642503|     M|2016-04-29 16:08:...|2016-04-29 00:00:...| 56|  JARDIM DA PENHA|          0|           0|       0|         0|      0|           0|     No|\n",
      "|  4.262962299951E12|      5642549|     F|2016-04-29 16:19:...|2016-04-29 00:00:...| 62|    MATA DA PRAIA|          0|           0|       0|         0|      0|           0|     No|\n",
      "|   8.67951213174E11|      5642828|     F|2016-04-29 17:29:...|2016-04-29 00:00:...|  8|PONTAL DE CAMBURI|          0|           0|       0|         0|      0|           0|     No|\n",
      "|  8.841186448183E12|      5642494|     F|2016-04-29 16:07:...|2016-04-29 00:00:...| 56|  JARDIM DA PENHA|          0|           1|       1|         0|      0|           0|     No|\n",
      "| 9.5985133231274E13|      5626772|     F|2016-04-27 08:36:...|2016-04-29 00:00:...| 76|        REPÚBLICA|          0|           1|       0|         0|      0|           0|     No|\n",
      "|7.33688164476661E14|      5630279|     F|2016-04-27 15:05:...|2016-04-29 00:00:...| 23|       GOIABEIRAS|          0|           0|       0|         0|      0|           0|    Yes|\n",
      "|  3.449833394123E12|      5630575|     F|2016-04-27 15:39:...|2016-04-29 00:00:...| 39|       GOIABEIRAS|          0|           0|       0|         0|      0|           0|    Yes|\n",
      "| 5.6394729949972E13|      5638447|     F|2016-04-29 08:02:...|2016-04-29 00:00:...| 21|       ANDORINHAS|          0|           0|       0|         0|      0|           0|     No|\n",
      "| 7.8124564369297E13|      5629123|     F|2016-04-27 12:48:...|2016-04-29 00:00:...| 19|        CONQUISTA|          0|           0|       0|         0|      0|           0|     No|\n",
      "|7.34536231958495E14|      5630213|     F|2016-04-27 14:58:...|2016-04-29 00:00:...| 30|   NOVA PALESTINA|          0|           0|       0|         0|      0|           0|     No|\n",
      "|  7.542951368435E12|      5620163|     M|2016-04-26 08:44:...|2016-04-29 00:00:...| 29|   NOVA PALESTINA|          0|           0|       0|         0|      0|           1|    Yes|\n",
      "|5.66654781423437E14|      5634718|     F|2016-04-28 11:33:...|2016-04-29 00:00:...| 22|   NOVA PALESTINA|          1|           0|       0|         0|      0|           0|     No|\n",
      "|9.11394617215919E14|      5636249|     M|2016-04-28 14:52:...|2016-04-29 00:00:...| 28|   NOVA PALESTINA|          0|           0|       0|         0|      0|           0|     No|\n",
      "| 9.9884723334928E13|      5633951|     F|2016-04-28 10:06:...|2016-04-29 00:00:...| 54|   NOVA PALESTINA|          0|           0|       0|         0|      0|           0|     No|\n",
      "|    9.9948393975E10|      5620206|     F|2016-04-26 08:47:...|2016-04-29 00:00:...| 15|   NOVA PALESTINA|          0|           0|       0|         0|      0|           1|     No|\n",
      "| 8.4574392942817E13|      5633121|     M|2016-04-28 08:51:...|2016-04-29 00:00:...| 50|   NOVA PALESTINA|          0|           0|       0|         0|      0|           0|     No|\n",
      "| 1.4794966191172E13|      5633460|     F|2016-04-28 09:28:...|2016-04-29 00:00:...| 40|        CONQUISTA|          1|           0|       0|         0|      0|           0|    Yes|\n",
      "| 1.7135378245248E13|      5621836|     F|2016-04-26 10:54:...|2016-04-29 00:00:...| 30|   NOVA PALESTINA|          1|           0|       0|         0|      0|           1|     No|\n",
      "|  7.223289184215E12|      5640433|     F|2016-04-29 10:43:...|2016-04-29 00:00:...| 46|         DA PENHA|          0|           0|       0|         0|      0|           0|     No|\n",
      "+-------------------+-------------+------+--------------------+--------------------+---+-----------------+-----------+------------+--------+----------+-------+------------+-------+\n",
      "only showing top 20 rows\n",
      "\n"
     ]
    },
    {
     "data": {
      "text/plain": [
       "['PatientId',\n",
       " 'AppointmentID',\n",
       " 'Gender',\n",
       " 'ScheduledDay',\n",
       " 'AppointmentDay',\n",
       " 'Age',\n",
       " 'Neighbourhood',\n",
       " 'Scholarship',\n",
       " 'Hipertension',\n",
       " 'Diabetes',\n",
       " 'Alcoholism',\n",
       " 'Handcap',\n",
       " 'SMS_received',\n",
       " 'No-show']"
      ]
     },
     "execution_count": 4,
     "metadata": {},
     "output_type": "execute_result"
    }
   ],
   "source": [
    "#data exploration\n",
    "df.show()\n",
    "\n",
    "df.columns"
   ]
  },
  {
   "cell_type": "code",
   "execution_count": 5,
   "metadata": {},
   "outputs": [
    {
     "name": "stdout",
     "output_type": "stream",
     "text": [
      "+-------+--------------------+-----------------+------+------------------+-------------+-------------------+-------------------+-------------------+--------------------+--------------------+-------------------+-------+\n",
      "|summary|           PatientId|    AppointmentID|Gender|               Age|Neighbourhood|        Scholarship|       Hipertension|           Diabetes|          Alcoholism|             Handcap|       SMS_received|No-show|\n",
      "+-------+--------------------+-----------------+------+------------------+-------------+-------------------+-------------------+-------------------+--------------------+--------------------+-------------------+-------+\n",
      "|  count|              110527|           110527|110527|            110527|       110527|             110527|             110527|             110527|              110527|              110527|             110527| 110527|\n",
      "|   mean|1.474962657103923...|5675305.123426855|  null| 37.08887421173107|         null|0.09826558216544373| 0.1972459218109602|0.07186479321794674|0.030399811810688793|0.022247957512643968|0.32102563174608917|   null|\n",
      "| stddev|2.560949202917382...|  71295.751539677|  null|23.110204963682676|         null| 0.2976747541093073|0.39792134994708606|0.25826507350746536|  0.1716855554142438|  0.1615427258142786|0.46687273170186905|   null|\n",
      "|    min|         39217.84439|          5030230|     F|                -1|    AEROPORTO|                  0|                  0|                  0|                   0|                   0|                  0|     No|\n",
      "|    max| 9.99981631772427E14|          5790484|     M|               115|   VILA RUBIM|                  1|                  1|                  1|                   1|                   4|                  1|    Yes|\n",
      "+-------+--------------------+-----------------+------+------------------+-------------+-------------------+-------------------+-------------------+--------------------+--------------------+-------------------+-------+\n",
      "\n"
     ]
    }
   ],
   "source": [
    "df.describe().show()"
   ]
  },
  {
   "cell_type": "code",
   "execution_count": 6,
   "metadata": {},
   "outputs": [
    {
     "name": "stdout",
     "output_type": "stream",
     "text": [
      "root\n",
      " |-- PatientId: double (nullable = true)\n",
      " |-- AppointmentID: integer (nullable = true)\n",
      " |-- Gender: string (nullable = true)\n",
      " |-- ScheduledDay: timestamp (nullable = true)\n",
      " |-- AppointmentDay: timestamp (nullable = true)\n",
      " |-- Age: integer (nullable = true)\n",
      " |-- Neighbourhood: string (nullable = true)\n",
      " |-- Scholarship: integer (nullable = true)\n",
      " |-- Hipertension: integer (nullable = true)\n",
      " |-- Diabetes: integer (nullable = true)\n",
      " |-- Alcoholism: integer (nullable = true)\n",
      " |-- Handcap: integer (nullable = true)\n",
      " |-- SMS_received: integer (nullable = true)\n",
      " |-- No-show: string (nullable = true)\n",
      "\n"
     ]
    }
   ],
   "source": [
    "df.printSchema()"
   ]
  },
  {
   "cell_type": "code",
   "execution_count": 7,
   "metadata": {},
   "outputs": [
    {
     "name": "stdout",
     "output_type": "stream",
     "text": [
      "+-------------------+-------------+------+--------------------+--------------------+---+-----------------+-----------+------------+--------+----------+-------+------------+-------+\n",
      "|          PatientId|AppointmentID|Gender|        ScheduledDay|      AppointmentDay|Age|    Neighbourhood|Scholarship|Hipertension|Diabetes|Alcoholism|Handcap|SMS_received|No-show|\n",
      "+-------------------+-------------+------+--------------------+--------------------+---+-----------------+-----------+------------+--------+----------+-------+------------+-------+\n",
      "| 2.9872499824296E13|      5642903|     F|2016-04-29 18:38:...|2016-04-29 00:00:...| 62|  JARDIM DA PENHA|          0|           1|       0|         0|      0|           0|     No|\n",
      "|5.58997776694438E14|      5642503|     M|2016-04-29 16:08:...|2016-04-29 00:00:...| 56|  JARDIM DA PENHA|          0|           0|       0|         0|      0|           0|     No|\n",
      "|  4.262962299951E12|      5642549|     F|2016-04-29 16:19:...|2016-04-29 00:00:...| 62|    MATA DA PRAIA|          0|           0|       0|         0|      0|           0|     No|\n",
      "|   8.67951213174E11|      5642828|     F|2016-04-29 17:29:...|2016-04-29 00:00:...|  8|PONTAL DE CAMBURI|          0|           0|       0|         0|      0|           0|     No|\n",
      "|  8.841186448183E12|      5642494|     F|2016-04-29 16:07:...|2016-04-29 00:00:...| 56|  JARDIM DA PENHA|          0|           1|       1|         0|      0|           0|     No|\n",
      "| 9.5985133231274E13|      5626772|     F|2016-04-27 08:36:...|2016-04-29 00:00:...| 76|        REPÚBLICA|          0|           1|       0|         0|      0|           0|     No|\n",
      "|7.33688164476661E14|      5630279|     F|2016-04-27 15:05:...|2016-04-29 00:00:...| 23|       GOIABEIRAS|          0|           0|       0|         0|      0|           0|    Yes|\n",
      "|  3.449833394123E12|      5630575|     F|2016-04-27 15:39:...|2016-04-29 00:00:...| 39|       GOIABEIRAS|          0|           0|       0|         0|      0|           0|    Yes|\n",
      "| 5.6394729949972E13|      5638447|     F|2016-04-29 08:02:...|2016-04-29 00:00:...| 21|       ANDORINHAS|          0|           0|       0|         0|      0|           0|     No|\n",
      "| 7.8124564369297E13|      5629123|     F|2016-04-27 12:48:...|2016-04-29 00:00:...| 19|        CONQUISTA|          0|           0|       0|         0|      0|           0|     No|\n",
      "|7.34536231958495E14|      5630213|     F|2016-04-27 14:58:...|2016-04-29 00:00:...| 30|   NOVA PALESTINA|          0|           0|       0|         0|      0|           0|     No|\n",
      "|  7.542951368435E12|      5620163|     M|2016-04-26 08:44:...|2016-04-29 00:00:...| 29|   NOVA PALESTINA|          0|           0|       0|         0|      0|           1|    Yes|\n",
      "|5.66654781423437E14|      5634718|     F|2016-04-28 11:33:...|2016-04-29 00:00:...| 22|   NOVA PALESTINA|          1|           0|       0|         0|      0|           0|     No|\n",
      "|9.11394617215919E14|      5636249|     M|2016-04-28 14:52:...|2016-04-29 00:00:...| 28|   NOVA PALESTINA|          0|           0|       0|         0|      0|           0|     No|\n",
      "| 9.9884723334928E13|      5633951|     F|2016-04-28 10:06:...|2016-04-29 00:00:...| 54|   NOVA PALESTINA|          0|           0|       0|         0|      0|           0|     No|\n",
      "|    9.9948393975E10|      5620206|     F|2016-04-26 08:47:...|2016-04-29 00:00:...| 15|   NOVA PALESTINA|          0|           0|       0|         0|      0|           1|     No|\n",
      "| 8.4574392942817E13|      5633121|     M|2016-04-28 08:51:...|2016-04-29 00:00:...| 50|   NOVA PALESTINA|          0|           0|       0|         0|      0|           0|     No|\n",
      "| 1.4794966191172E13|      5633460|     F|2016-04-28 09:28:...|2016-04-29 00:00:...| 40|        CONQUISTA|          1|           0|       0|         0|      0|           0|    Yes|\n",
      "| 1.7135378245248E13|      5621836|     F|2016-04-26 10:54:...|2016-04-29 00:00:...| 30|   NOVA PALESTINA|          1|           0|       0|         0|      0|           1|     No|\n",
      "|  7.223289184215E12|      5640433|     F|2016-04-29 10:43:...|2016-04-29 00:00:...| 46|         DA PENHA|          0|           0|       0|         0|      0|           0|     No|\n",
      "+-------------------+-------------+------+--------------------+--------------------+---+-----------------+-----------+------------+--------+----------+-------+------------+-------+\n",
      "only showing top 20 rows\n",
      "\n"
     ]
    }
   ],
   "source": [
    "df.na.drop().show()"
   ]
  },
  {
   "cell_type": "code",
   "execution_count": 8,
   "metadata": {},
   "outputs": [
    {
     "name": "stdout",
     "output_type": "stream",
     "text": [
      "(110527, 14)\n"
     ]
    }
   ],
   "source": [
    "print((df.count(), len(df.columns)))"
   ]
  },
  {
   "cell_type": "code",
   "execution_count": 9,
   "metadata": {},
   "outputs": [],
   "source": [
    "from pyspark.sql import functions as F\n",
    "timeFmt = \"yyyy-MM-dd'T'HH:mm:ss.SSS\"\n",
    "timeDiff = (F.unix_timestamp('AppointmentDay', format=timeFmt)\n",
    "            - F.unix_timestamp('ScheduledDay', format=timeFmt))\n",
    "df = df.withColumn(\"Duration\", timeDiff)\n"
   ]
  },
  {
   "cell_type": "code",
   "execution_count": 10,
   "metadata": {},
   "outputs": [
    {
     "name": "stdout",
     "output_type": "stream",
     "text": [
      "+-------------------+-------------+------+--------------------+--------------------+---+-----------------+-----------+------------+--------+----------+-------+------------+-------+--------+\n",
      "|          PatientId|AppointmentID|Gender|        ScheduledDay|      AppointmentDay|Age|    Neighbourhood|Scholarship|Hipertension|Diabetes|Alcoholism|Handcap|SMS_received|No-show|Duration|\n",
      "+-------------------+-------------+------+--------------------+--------------------+---+-----------------+-----------+------------+--------+----------+-------+------------+-------+--------+\n",
      "| 2.9872499824296E13|      5642903|     F|2016-04-29 18:38:...|2016-04-29 00:00:...| 62|  JARDIM DA PENHA|          0|           1|       0|         0|      0|           0|     No|  -67088|\n",
      "|5.58997776694438E14|      5642503|     M|2016-04-29 16:08:...|2016-04-29 00:00:...| 56|  JARDIM DA PENHA|          0|           0|       0|         0|      0|           0|     No|  -58107|\n",
      "|  4.262962299951E12|      5642549|     F|2016-04-29 16:19:...|2016-04-29 00:00:...| 62|    MATA DA PRAIA|          0|           0|       0|         0|      0|           0|     No|  -58744|\n",
      "|   8.67951213174E11|      5642828|     F|2016-04-29 17:29:...|2016-04-29 00:00:...|  8|PONTAL DE CAMBURI|          0|           0|       0|         0|      0|           0|     No|  -62971|\n",
      "|  8.841186448183E12|      5642494|     F|2016-04-29 16:07:...|2016-04-29 00:00:...| 56|  JARDIM DA PENHA|          0|           1|       1|         0|      0|           0|     No|  -58043|\n",
      "| 9.5985133231274E13|      5626772|     F|2016-04-27 08:36:...|2016-04-29 00:00:...| 76|        REPÚBLICA|          0|           1|       0|         0|      0|           0|     No|  141789|\n",
      "|7.33688164476661E14|      5630279|     F|2016-04-27 15:05:...|2016-04-29 00:00:...| 23|       GOIABEIRAS|          0|           0|       0|         0|      0|           0|    Yes|  118488|\n",
      "|  3.449833394123E12|      5630575|     F|2016-04-27 15:39:...|2016-04-29 00:00:...| 39|       GOIABEIRAS|          0|           0|       0|         0|      0|           0|    Yes|  116402|\n",
      "| 5.6394729949972E13|      5638447|     F|2016-04-29 08:02:...|2016-04-29 00:00:...| 21|       ANDORINHAS|          0|           0|       0|         0|      0|           0|     No|  -28936|\n",
      "| 7.8124564369297E13|      5629123|     F|2016-04-27 12:48:...|2016-04-29 00:00:...| 19|        CONQUISTA|          0|           0|       0|         0|      0|           0|     No|  126695|\n",
      "|7.34536231958495E14|      5630213|     F|2016-04-27 14:58:...|2016-04-29 00:00:...| 30|   NOVA PALESTINA|          0|           0|       0|         0|      0|           0|     No|  118909|\n",
      "|  7.542951368435E12|      5620163|     M|2016-04-26 08:44:...|2016-04-29 00:00:...| 29|   NOVA PALESTINA|          0|           0|       0|         0|      0|           1|    Yes|  227748|\n",
      "|5.66654781423437E14|      5634718|     F|2016-04-28 11:33:...|2016-04-29 00:00:...| 22|   NOVA PALESTINA|          1|           0|       0|         0|      0|           0|     No|   44769|\n",
      "|9.11394617215919E14|      5636249|     M|2016-04-28 14:52:...|2016-04-29 00:00:...| 28|   NOVA PALESTINA|          0|           0|       0|         0|      0|           0|     No|   32873|\n",
      "| 9.9884723334928E13|      5633951|     F|2016-04-28 10:06:...|2016-04-29 00:00:...| 54|   NOVA PALESTINA|          0|           0|       0|         0|      0|           0|     No|   50016|\n",
      "|    9.9948393975E10|      5620206|     F|2016-04-26 08:47:...|2016-04-29 00:00:...| 15|   NOVA PALESTINA|          0|           0|       0|         0|      0|           1|     No|  227553|\n",
      "| 8.4574392942817E13|      5633121|     M|2016-04-28 08:51:...|2016-04-29 00:00:...| 50|   NOVA PALESTINA|          0|           0|       0|         0|      0|           0|     No|   54493|\n",
      "| 1.4794966191172E13|      5633460|     F|2016-04-28 09:28:...|2016-04-29 00:00:...| 40|        CONQUISTA|          1|           0|       0|         0|      0|           0|    Yes|   52263|\n",
      "| 1.7135378245248E13|      5621836|     F|2016-04-26 10:54:...|2016-04-29 00:00:...| 30|   NOVA PALESTINA|          1|           0|       0|         0|      0|           1|     No|  219942|\n",
      "|  7.223289184215E12|      5640433|     F|2016-04-29 10:43:...|2016-04-29 00:00:...| 46|         DA PENHA|          0|           0|       0|         0|      0|           0|     No|  -38594|\n",
      "+-------------------+-------------+------+--------------------+--------------------+---+-----------------+-----------+------------+--------+----------+-------+------------+-------+--------+\n",
      "only showing top 20 rows\n",
      "\n"
     ]
    }
   ],
   "source": [
    "df.show()"
   ]
  },
  {
   "cell_type": "code",
   "execution_count": 11,
   "metadata": {},
   "outputs": [],
   "source": [
    "# Rename columns \n",
    "df = df.withColumnRenamed('AppointmentID', 'AppointmentId')\n",
    "\n",
    "df = df.withColumnRenamed('Handcap','Handicap')\n",
    "\n",
    "df = df.withColumnRenamed('Hipertension','Hypertension')"
   ]
  },
  {
   "cell_type": "code",
   "execution_count": 12,
   "metadata": {},
   "outputs": [
    {
     "name": "stdout",
     "output_type": "stream",
     "text": [
      "+-------------------+-------------+------+--------------------+--------------------+---+-----------------+-----------+------------+--------+----------+--------+------------+-------+--------+\n",
      "|          PatientId|AppointmentId|Gender|        ScheduledDay|      AppointmentDay|Age|    Neighbourhood|Scholarship|Hypertension|Diabetes|Alcoholism|Handicap|SMS_received|No-show|Duration|\n",
      "+-------------------+-------------+------+--------------------+--------------------+---+-----------------+-----------+------------+--------+----------+--------+------------+-------+--------+\n",
      "| 2.9872499824296E13|      5642903|     F|2016-04-29 18:38:...|2016-04-29 00:00:...| 62|  JARDIM DA PENHA|          0|           1|       0|         0|       0|           0|     No|  -67088|\n",
      "|5.58997776694438E14|      5642503|     M|2016-04-29 16:08:...|2016-04-29 00:00:...| 56|  JARDIM DA PENHA|          0|           0|       0|         0|       0|           0|     No|  -58107|\n",
      "|  4.262962299951E12|      5642549|     F|2016-04-29 16:19:...|2016-04-29 00:00:...| 62|    MATA DA PRAIA|          0|           0|       0|         0|       0|           0|     No|  -58744|\n",
      "|   8.67951213174E11|      5642828|     F|2016-04-29 17:29:...|2016-04-29 00:00:...|  8|PONTAL DE CAMBURI|          0|           0|       0|         0|       0|           0|     No|  -62971|\n",
      "|  8.841186448183E12|      5642494|     F|2016-04-29 16:07:...|2016-04-29 00:00:...| 56|  JARDIM DA PENHA|          0|           1|       1|         0|       0|           0|     No|  -58043|\n",
      "| 9.5985133231274E13|      5626772|     F|2016-04-27 08:36:...|2016-04-29 00:00:...| 76|        REPÚBLICA|          0|           1|       0|         0|       0|           0|     No|  141789|\n",
      "|7.33688164476661E14|      5630279|     F|2016-04-27 15:05:...|2016-04-29 00:00:...| 23|       GOIABEIRAS|          0|           0|       0|         0|       0|           0|    Yes|  118488|\n",
      "|  3.449833394123E12|      5630575|     F|2016-04-27 15:39:...|2016-04-29 00:00:...| 39|       GOIABEIRAS|          0|           0|       0|         0|       0|           0|    Yes|  116402|\n",
      "| 5.6394729949972E13|      5638447|     F|2016-04-29 08:02:...|2016-04-29 00:00:...| 21|       ANDORINHAS|          0|           0|       0|         0|       0|           0|     No|  -28936|\n",
      "| 7.8124564369297E13|      5629123|     F|2016-04-27 12:48:...|2016-04-29 00:00:...| 19|        CONQUISTA|          0|           0|       0|         0|       0|           0|     No|  126695|\n",
      "|7.34536231958495E14|      5630213|     F|2016-04-27 14:58:...|2016-04-29 00:00:...| 30|   NOVA PALESTINA|          0|           0|       0|         0|       0|           0|     No|  118909|\n",
      "|  7.542951368435E12|      5620163|     M|2016-04-26 08:44:...|2016-04-29 00:00:...| 29|   NOVA PALESTINA|          0|           0|       0|         0|       0|           1|    Yes|  227748|\n",
      "|5.66654781423437E14|      5634718|     F|2016-04-28 11:33:...|2016-04-29 00:00:...| 22|   NOVA PALESTINA|          1|           0|       0|         0|       0|           0|     No|   44769|\n",
      "|9.11394617215919E14|      5636249|     M|2016-04-28 14:52:...|2016-04-29 00:00:...| 28|   NOVA PALESTINA|          0|           0|       0|         0|       0|           0|     No|   32873|\n",
      "| 9.9884723334928E13|      5633951|     F|2016-04-28 10:06:...|2016-04-29 00:00:...| 54|   NOVA PALESTINA|          0|           0|       0|         0|       0|           0|     No|   50016|\n",
      "|    9.9948393975E10|      5620206|     F|2016-04-26 08:47:...|2016-04-29 00:00:...| 15|   NOVA PALESTINA|          0|           0|       0|         0|       0|           1|     No|  227553|\n",
      "| 8.4574392942817E13|      5633121|     M|2016-04-28 08:51:...|2016-04-29 00:00:...| 50|   NOVA PALESTINA|          0|           0|       0|         0|       0|           0|     No|   54493|\n",
      "| 1.4794966191172E13|      5633460|     F|2016-04-28 09:28:...|2016-04-29 00:00:...| 40|        CONQUISTA|          1|           0|       0|         0|       0|           0|    Yes|   52263|\n",
      "| 1.7135378245248E13|      5621836|     F|2016-04-26 10:54:...|2016-04-29 00:00:...| 30|   NOVA PALESTINA|          1|           0|       0|         0|       0|           1|     No|  219942|\n",
      "|  7.223289184215E12|      5640433|     F|2016-04-29 10:43:...|2016-04-29 00:00:...| 46|         DA PENHA|          0|           0|       0|         0|       0|           0|     No|  -38594|\n",
      "+-------------------+-------------+------+--------------------+--------------------+---+-----------------+-----------+------------+--------+----------+--------+------------+-------+--------+\n",
      "only showing top 20 rows\n",
      "\n"
     ]
    }
   ],
   "source": [
    "df.show()\n"
   ]
  },
  {
   "cell_type": "code",
   "execution_count": 13,
   "metadata": {},
   "outputs": [],
   "source": [
    "df = df.drop('ScheduledDay','AppointmentDay','PatientId','AppointmentId','Neighbourhood')"
   ]
  },
  {
   "cell_type": "code",
   "execution_count": 14,
   "metadata": {},
   "outputs": [
    {
     "name": "stdout",
     "output_type": "stream",
     "text": [
      "+------+---+-----------+------------+--------+----------+--------+------------+-------+--------+\n",
      "|Gender|Age|Scholarship|Hypertension|Diabetes|Alcoholism|Handicap|SMS_received|No-show|Duration|\n",
      "+------+---+-----------+------------+--------+----------+--------+------------+-------+--------+\n",
      "|     F| 62|          0|           1|       0|         0|       0|           0|     No|  -67088|\n",
      "|     M| 56|          0|           0|       0|         0|       0|           0|     No|  -58107|\n",
      "|     F| 62|          0|           0|       0|         0|       0|           0|     No|  -58744|\n",
      "|     F|  8|          0|           0|       0|         0|       0|           0|     No|  -62971|\n",
      "|     F| 56|          0|           1|       1|         0|       0|           0|     No|  -58043|\n",
      "|     F| 76|          0|           1|       0|         0|       0|           0|     No|  141789|\n",
      "|     F| 23|          0|           0|       0|         0|       0|           0|    Yes|  118488|\n",
      "|     F| 39|          0|           0|       0|         0|       0|           0|    Yes|  116402|\n",
      "|     F| 21|          0|           0|       0|         0|       0|           0|     No|  -28936|\n",
      "|     F| 19|          0|           0|       0|         0|       0|           0|     No|  126695|\n",
      "|     F| 30|          0|           0|       0|         0|       0|           0|     No|  118909|\n",
      "|     M| 29|          0|           0|       0|         0|       0|           1|    Yes|  227748|\n",
      "|     F| 22|          1|           0|       0|         0|       0|           0|     No|   44769|\n",
      "|     M| 28|          0|           0|       0|         0|       0|           0|     No|   32873|\n",
      "|     F| 54|          0|           0|       0|         0|       0|           0|     No|   50016|\n",
      "|     F| 15|          0|           0|       0|         0|       0|           1|     No|  227553|\n",
      "|     M| 50|          0|           0|       0|         0|       0|           0|     No|   54493|\n",
      "|     F| 40|          1|           0|       0|         0|       0|           0|    Yes|   52263|\n",
      "|     F| 30|          1|           0|       0|         0|       0|           1|     No|  219942|\n",
      "|     F| 46|          0|           0|       0|         0|       0|           0|     No|  -38594|\n",
      "+------+---+-----------+------------+--------+----------+--------+------------+-------+--------+\n",
      "only showing top 20 rows\n",
      "\n"
     ]
    }
   ],
   "source": [
    "df.show()"
   ]
  },
  {
   "cell_type": "code",
   "execution_count": 15,
   "metadata": {},
   "outputs": [],
   "source": [
    "df = df.filter( (df['Duration'] > 0) )"
   ]
  },
  {
   "cell_type": "code",
   "execution_count": 16,
   "metadata": {},
   "outputs": [
    {
     "name": "stdout",
     "output_type": "stream",
     "text": [
      "+------+---+-----------+------------+--------+----------+--------+------------+-------+--------+\n",
      "|Gender|Age|Scholarship|Hypertension|Diabetes|Alcoholism|Handicap|SMS_received|No-show|Duration|\n",
      "+------+---+-----------+------------+--------+----------+--------+------------+-------+--------+\n",
      "|     F| 76|          0|           1|       0|         0|       0|           0|     No|  141789|\n",
      "|     F| 23|          0|           0|       0|         0|       0|           0|    Yes|  118488|\n",
      "|     F| 39|          0|           0|       0|         0|       0|           0|    Yes|  116402|\n",
      "|     F| 19|          0|           0|       0|         0|       0|           0|     No|  126695|\n",
      "|     F| 30|          0|           0|       0|         0|       0|           0|     No|  118909|\n",
      "|     M| 29|          0|           0|       0|         0|       0|           1|    Yes|  227748|\n",
      "|     F| 22|          1|           0|       0|         0|       0|           0|     No|   44769|\n",
      "|     M| 28|          0|           0|       0|         0|       0|           0|     No|   32873|\n",
      "|     F| 54|          0|           0|       0|         0|       0|           0|     No|   50016|\n",
      "|     F| 15|          0|           0|       0|         0|       0|           1|     No|  227553|\n",
      "|     M| 50|          0|           0|       0|         0|       0|           0|     No|   54493|\n",
      "|     F| 40|          1|           0|       0|         0|       0|           0|    Yes|   52263|\n",
      "|     F| 30|          1|           0|       0|         0|       0|           1|     No|  219942|\n",
      "|     F| 30|          0|           0|       0|         0|       0|           0|    Yes|  144526|\n",
      "|     F|  4|          0|           0|       0|         0|       0|           0|    Yes|  133755|\n",
      "|     M| 13|          0|           0|       0|         0|       0|           1|    Yes|  297044|\n",
      "|     F| 46|          0|           0|       0|         0|       0|           0|     No|   48775|\n",
      "|     M| 46|          0|           1|       0|         0|       0|           1|     No|  204943|\n",
      "|     F|  4|          0|           0|       0|         0|       0|           0|     No|  133695|\n",
      "|     F| 46|          0|           0|       0|         0|       0|           0|     No|  135308|\n",
      "+------+---+-----------+------------+--------+----------+--------+------------+-------+--------+\n",
      "only showing top 20 rows\n",
      "\n"
     ]
    }
   ],
   "source": [
    "df.show()"
   ]
  },
  {
   "cell_type": "code",
   "execution_count": 17,
   "metadata": {},
   "outputs": [],
   "source": [
    "df = df.filter( (df['Age'] > 0) &  (df['Age'] < 90))\n"
   ]
  },
  {
   "cell_type": "code",
   "execution_count": 18,
   "metadata": {},
   "outputs": [
    {
     "name": "stdout",
     "output_type": "stream",
     "text": [
      "+------+---+-----------+------------+--------+----------+--------+------------+-------+--------+\n",
      "|Gender|Age|Scholarship|Hypertension|Diabetes|Alcoholism|Handicap|SMS_received|No-show|Duration|\n",
      "+------+---+-----------+------------+--------+----------+--------+------------+-------+--------+\n",
      "|     F| 76|          0|           1|       0|         0|       0|           0|     No|  141789|\n",
      "|     F| 23|          0|           0|       0|         0|       0|           0|    Yes|  118488|\n",
      "|     F| 39|          0|           0|       0|         0|       0|           0|    Yes|  116402|\n",
      "|     F| 19|          0|           0|       0|         0|       0|           0|     No|  126695|\n",
      "|     F| 30|          0|           0|       0|         0|       0|           0|     No|  118909|\n",
      "|     M| 29|          0|           0|       0|         0|       0|           1|    Yes|  227748|\n",
      "|     F| 22|          1|           0|       0|         0|       0|           0|     No|   44769|\n",
      "|     M| 28|          0|           0|       0|         0|       0|           0|     No|   32873|\n",
      "|     F| 54|          0|           0|       0|         0|       0|           0|     No|   50016|\n",
      "|     F| 15|          0|           0|       0|         0|       0|           1|     No|  227553|\n",
      "|     M| 50|          0|           0|       0|         0|       0|           0|     No|   54493|\n",
      "|     F| 40|          1|           0|       0|         0|       0|           0|    Yes|   52263|\n",
      "|     F| 30|          1|           0|       0|         0|       0|           1|     No|  219942|\n",
      "|     F| 30|          0|           0|       0|         0|       0|           0|    Yes|  144526|\n",
      "|     F|  4|          0|           0|       0|         0|       0|           0|    Yes|  133755|\n",
      "|     M| 13|          0|           0|       0|         0|       0|           1|    Yes|  297044|\n",
      "|     F| 46|          0|           0|       0|         0|       0|           0|     No|   48775|\n",
      "|     M| 46|          0|           1|       0|         0|       0|           1|     No|  204943|\n",
      "|     F|  4|          0|           0|       0|         0|       0|           0|     No|  133695|\n",
      "|     F| 46|          0|           0|       0|         0|       0|           0|     No|  135308|\n",
      "+------+---+-----------+------------+--------+----------+--------+------------+-------+--------+\n",
      "only showing top 20 rows\n",
      "\n"
     ]
    }
   ],
   "source": [
    "df.show()"
   ]
  },
  {
   "cell_type": "code",
   "execution_count": 19,
   "metadata": {},
   "outputs": [],
   "source": [
    "import numpy as np\n",
    "import matplotlib.pyplot as plt\n",
    "%matplotlib inline"
   ]
  },
  {
   "cell_type": "code",
   "execution_count": 20,
   "metadata": {},
   "outputs": [
    {
     "data": {
      "image/png": "[encoded data removed]",
      "text/plain": [
       "<Figure size 432x288 with 1 Axes>"
      ]
     },
     "metadata": {},
     "output_type": "display_data"
    }
   ],
   "source": [
    "sexArr = np.array(df.select('Gender').collect())\n",
    "plt.hist(sexArr)\n",
    "plt.show()"
   ]
  },
  {
   "cell_type": "code",
   "execution_count": 21,
   "metadata": {},
   "outputs": [
    {
     "data": {
      "image/png": "[encoded data removed]",
      "text/plain": [
       "<Figure size 432x288 with 1 Axes>"
      ]
     },
     "metadata": {},
     "output_type": "display_data"
    }
   ],
   "source": [
    "ageArr = np.array(df.select('Age').collect())\n",
    "plt.hist(ageArr)\n",
    "plt.show()"
   ]
  },
  {
   "cell_type": "code",
   "execution_count": 22,
   "metadata": {},
   "outputs": [
    {
     "data": {
      "image/png": "[encoded data removed]",
      "text/plain": [
       "<Figure size 432x288 with 1 Axes>"
      ]
     },
     "metadata": {},
     "output_type": "display_data"
    }
   ],
   "source": [
    "schArr = np.array(df.select('Scholarship').collect())\n",
    "plt.hist(schArr)\n",
    "plt.show()"
   ]
  },
  {
   "cell_type": "code",
   "execution_count": 23,
   "metadata": {},
   "outputs": [
    {
     "data": {
      "image/png": "[encoded data removed]",
      "text/plain": [
       "<Figure size 432x288 with 1 Axes>"
      ]
     },
     "metadata": {},
     "output_type": "display_data"
    }
   ],
   "source": [
    "hypArr = np.array(df.select('Hypertension').collect())\n",
    "plt.hist(hypArr)\n",
    "plt.show()"
   ]
  },
  {
   "cell_type": "code",
   "execution_count": 24,
   "metadata": {},
   "outputs": [
    {
     "data": {
      "image/png": "[encoded data removed]",
      "text/plain": [
       "<Figure size 432x288 with 1 Axes>"
      ]
     },
     "metadata": {},
     "output_type": "display_data"
    }
   ],
   "source": [
    "durArr = np.array(df.select('Duration').collect())\n",
    "plt.hist(durArr)\n",
    "plt.show()"
   ]
  },
  {
   "cell_type": "code",
   "execution_count": 25,
   "metadata": {},
   "outputs": [
    {
     "data": {
      "image/png": "[encoded data removed]",
      "text/plain": [
       "<Figure size 432x288 with 1 Axes>"
      ]
     },
     "metadata": {},
     "output_type": "display_data"
    }
   ],
   "source": [
    "diaArr = np.array(df.select('Diabetes').collect())\n",
    "plt.hist(diaArr)\n",
    "plt.show()"
   ]
  },
  {
   "cell_type": "code",
   "execution_count": 26,
   "metadata": {},
   "outputs": [
    {
     "data": {
      "image/png": "[encoded data removed]",
      "text/plain": [
       "<Figure size 432x288 with 1 Axes>"
      ]
     },
     "metadata": {},
     "output_type": "display_data"
    }
   ],
   "source": [
    "smsArr = np.array(df.select('SMS_received').collect())\n",
    "plt.hist(smsArr)\n",
    "plt.show()"
   ]
  },
  {
   "cell_type": "code",
   "execution_count": 27,
   "metadata": {},
   "outputs": [
    {
     "data": {
      "image/png": "[encoded data removed]",
      "text/plain": [
       "<Figure size 432x288 with 1 Axes>"
      ]
     },
     "metadata": {},
     "output_type": "display_data"
    }
   ],
   "source": [
    "alcArr = np.array(df.select('Alcoholism').collect())\n",
    "plt.hist(alcArr)\n",
    "plt.show()"
   ]
  },
  {
   "cell_type": "code",
   "execution_count": 28,
   "metadata": {},
   "outputs": [
    {
     "data": {
      "image/png": "[encoded data removed]",
      "text/plain": [
       "<Figure size 432x288 with 1 Axes>"
      ]
     },
     "metadata": {},
     "output_type": "display_data"
    }
   ],
   "source": [
    "noshowArr = np.array(df.select('No-show').collect())\n",
    "plt.hist(noshowArr)\n",
    "plt.show()"
   ]
  },
  {
   "cell_type": "code",
   "execution_count": 29,
   "metadata": {},
   "outputs": [],
   "source": [
    "df1 = df.toPandas()"
   ]
  },
  {
   "cell_type": "code",
   "execution_count": 30,
   "metadata": {},
   "outputs": [],
   "source": [
    "df1['Gender'] = df1['Gender'].map({'M':1, \n",
    "                                 'F':0}\n",
    "                               )\n",
    "df1['No-show'] = df1['No-show'].map({'Yes':1, \n",
    "                                   'No':0}\n",
    "                                 )"
   ]
  },
  {
   "cell_type": "code",
   "execution_count": 31,
   "metadata": {},
   "outputs": [
    {
     "data": {
      "text/html": [
       "<div>\n",
       "<style scoped>\n",
       "    .dataframe tbody tr th:only-of-type {\n",
       "        vertical-align: middle;\n",
       "    }\n",
       "\n",
       "    .dataframe tbody tr th {\n",
       "        vertical-align: top;\n",
       "    }\n",
       "\n",
       "    .dataframe thead th {\n",
       "        text-align: right;\n",
       "    }\n",
       "</style>\n",
       "<table border=\"1\" class=\"dataframe\">\n",
       "  <thead>\n",
       "    <tr style=\"text-align: right;\">\n",
       "      <th></th>\n",
       "      <th>Gender</th>\n",
       "      <th>Age</th>\n",
       "      <th>Scholarship</th>\n",
       "      <th>Hypertension</th>\n",
       "      <th>Diabetes</th>\n",
       "      <th>Alcoholism</th>\n",
       "      <th>Handicap</th>\n",
       "      <th>SMS_received</th>\n",
       "      <th>No-show</th>\n",
       "      <th>Duration</th>\n",
       "    </tr>\n",
       "  </thead>\n",
       "  <tbody>\n",
       "    <tr>\n",
       "      <th>0</th>\n",
       "      <td>0</td>\n",
       "      <td>76</td>\n",
       "      <td>0</td>\n",
       "      <td>1</td>\n",
       "      <td>0</td>\n",
       "      <td>0</td>\n",
       "      <td>0</td>\n",
       "      <td>0</td>\n",
       "      <td>0</td>\n",
       "      <td>141789</td>\n",
       "    </tr>\n",
       "    <tr>\n",
       "      <th>1</th>\n",
       "      <td>0</td>\n",
       "      <td>23</td>\n",
       "      <td>0</td>\n",
       "      <td>0</td>\n",
       "      <td>0</td>\n",
       "      <td>0</td>\n",
       "      <td>0</td>\n",
       "      <td>0</td>\n",
       "      <td>1</td>\n",
       "      <td>118488</td>\n",
       "    </tr>\n",
       "    <tr>\n",
       "      <th>2</th>\n",
       "      <td>0</td>\n",
       "      <td>39</td>\n",
       "      <td>0</td>\n",
       "      <td>0</td>\n",
       "      <td>0</td>\n",
       "      <td>0</td>\n",
       "      <td>0</td>\n",
       "      <td>0</td>\n",
       "      <td>1</td>\n",
       "      <td>116402</td>\n",
       "    </tr>\n",
       "    <tr>\n",
       "      <th>3</th>\n",
       "      <td>0</td>\n",
       "      <td>19</td>\n",
       "      <td>0</td>\n",
       "      <td>0</td>\n",
       "      <td>0</td>\n",
       "      <td>0</td>\n",
       "      <td>0</td>\n",
       "      <td>0</td>\n",
       "      <td>0</td>\n",
       "      <td>126695</td>\n",
       "    </tr>\n",
       "    <tr>\n",
       "      <th>4</th>\n",
       "      <td>0</td>\n",
       "      <td>30</td>\n",
       "      <td>0</td>\n",
       "      <td>0</td>\n",
       "      <td>0</td>\n",
       "      <td>0</td>\n",
       "      <td>0</td>\n",
       "      <td>0</td>\n",
       "      <td>0</td>\n",
       "      <td>118909</td>\n",
       "    </tr>\n",
       "  </tbody>\n",
       "</table>\n",
       "</div>"
      ],
      "text/plain": [
       "   Gender  Age  Scholarship  Hypertension  Diabetes  Alcoholism  Handicap  \\\n",
       "0       0   76            0             1         0           0         0   \n",
       "1       0   23            0             0         0           0         0   \n",
       "2       0   39            0             0         0           0         0   \n",
       "3       0   19            0             0         0           0         0   \n",
       "4       0   30            0             0         0           0         0   \n",
       "\n",
       "   SMS_received  No-show  Duration  \n",
       "0             0        0    141789  \n",
       "1             0        1    118488  \n",
       "2             0        1    116402  \n",
       "3             0        0    126695  \n",
       "4             0        0    118909  "
      ]
     },
     "execution_count": 31,
     "metadata": {},
     "output_type": "execute_result"
    }
   ],
   "source": [
    "df1.head()"
   ]
  },
  {
   "cell_type": "code",
   "execution_count": 32,
   "metadata": {},
   "outputs": [
    {
     "name": "stdout",
     "output_type": "stream",
     "text": [
      "Feature ranking: \n",
      "  0.  feature: Gender (0.6860874623296077)\n",
      "  1.  feature: Age (0.21047350739084617)\n",
      "  2.  feature: Scholarship (0.0368071705219741)\n",
      "  3.  feature: Hypertension (0.017842799808814355)\n",
      "  4.  feature: Diabetes (0.014412031977022606)\n",
      "  5.  feature: Alcoholism (0.0127888358598959)\n",
      "  6.  feature: Handicap (0.009706311580949945)\n",
      "  7.  feature: SMS_received (0.006964223517542563)\n",
      "  8.  feature: Duration (0.004917657013346713)\n"
     ]
    }
   ],
   "source": [
    "# Feature selection\n",
    "features = df1.drop(['No-show'], axis=1)\n",
    "labels = df1['No-show']\n",
    "\n",
    "# Fitting a tree\n",
    "clf = tree.DecisionTreeClassifier()\n",
    "clf.fit(features, labels)\n",
    "\n",
    "# Feature Importances to see whether new feature created has any importance.\n",
    "importances = clf.feature_importances_\n",
    "indices = np.argsort(importances)[::-1]\n",
    "\n",
    "print (\"Feature ranking: \")\n",
    "for i in range(0, 9, 1):\n",
    "    print (\"  {}.  feature: {} ({})\".format(i, features.columns[i], importances[indices[i]]))"
   ]
  },
  {
   "cell_type": "code",
   "execution_count": 33,
   "metadata": {},
   "outputs": [],
   "source": [
    "from sklearn.feature_selection import chi2\n",
    "\n",
    "from sklearn.feature_selection import SelectPercentile "
   ]
  },
  {
   "cell_type": "code",
   "execution_count": 34,
   "metadata": {},
   "outputs": [
    {
     "data": {
      "text/plain": [
       "Text(0,0.5,'Score')"
      ]
     },
     "execution_count": 34,
     "metadata": {},
     "output_type": "execute_result"
    },
    {
     "data": {
      "image/png": "[encoded data removed]",
      "text/plain": [
       "<Figure size 432x288 with 1 Axes>"
      ]
     },
     "metadata": {},
     "output_type": "display_data"
    }
   ],
   "source": [
    "    ###Another way to select the feature###\n",
    "    \n",
    "    selector = SelectPercentile(chi2)\n",
    "    selector.fit_transform(features, labels)\n",
    "    scores = pd.Series(selector.scores_)\n",
    "    columns = pd.Series(features.columns)\n",
    "    selectbest = pd.concat([columns, scores], axis=1)\n",
    "    selectbest.rename(columns={0:'features',\n",
    "                   1:'scores'}, inplace=True)\n",
    "    selectbest_plot = selectbest.iloc[:8,:].plot.bar()\n",
    "    selectbest_plot.set_title('Feature Scoring')\n",
    "    selectbest_plot.set_xticklabels(selectbest['features'])\n",
    "    selectbest_plot.set_xlabel('Features')\n",
    "    selectbest_plot.set_ylabel('Score')"
   ]
  },
  {
   "cell_type": "code",
   "execution_count": 35,
   "metadata": {},
   "outputs": [
    {
     "name": "stdout",
     "output_type": "stream",
     "text": [
      "Defaulting to user installation because normal site-packages is not writeable\n",
      "Requirement already satisfied: imblearn in ./.local/lib/python3.5/site-packages (0.0)\n",
      "Requirement already satisfied: imbalanced-learn in ./.local/lib/python3.5/site-packages (from imblearn) (0.6.2)\n",
      "Requirement already satisfied: numpy>=1.11 in ./.local/lib/python3.5/site-packages (from imbalanced-learn->imblearn) (1.18.4)\n",
      "Requirement already satisfied: joblib>=0.11 in ./.local/lib/python3.5/site-packages (from imbalanced-learn->imblearn) (0.14.1)\n",
      "Requirement already satisfied: scipy>=0.17 in ./.local/lib/python3.5/site-packages (from imbalanced-learn->imblearn) (1.4.1)\n",
      "Requirement already satisfied: scikit-learn>=0.22 in ./.local/lib/python3.5/site-packages (from imbalanced-learn->imblearn) (0.22.2.post1)\n"
     ]
    }
   ],
   "source": [
    "!pip install imblearn\n",
    "\n",
    "from imblearn.over_sampling import SMOTE\n",
    "from collections import Counter"
   ]
  },
  {
   "cell_type": "code",
   "execution_count": 36,
   "metadata": {},
   "outputs": [
    {
     "name": "stdout",
     "output_type": "stream",
     "text": [
      "Resampled dataset size [(0, 49691), (1, 49691)]\n"
     ]
    }
   ],
   "source": [
    " #Boosting data\n",
    "\n",
    "smt = SMOTE(random_state=111)\n",
    "features_res, labels_res = smt.fit_sample(features, labels)\n",
    "\n",
    "print('Resampled dataset size {}'.format(sorted(Counter(labels_res).items())))"
   ]
  },
  {
   "cell_type": "code",
   "execution_count": 37,
   "metadata": {},
   "outputs": [],
   "source": [
    "from pyspark.ml.classification import LogisticRegression\n",
    "\n",
    "from pyspark.ml.feature import (VectorAssembler,VectorIndexer,\n",
    "                                OneHotEncoder,StringIndexer)"
   ]
  },
  {
   "cell_type": "code",
   "execution_count": 38,
   "metadata": {},
   "outputs": [],
   "source": [
    "df2 = spark.createDataFrame(pd.DataFrame(df1))"
   ]
  },
  {
   "cell_type": "code",
   "execution_count": 39,
   "metadata": {},
   "outputs": [
    {
     "name": "stdout",
     "output_type": "stream",
     "text": [
      "+------+---+-----------+------------+--------+----------+--------+------------+-------+--------+\n",
      "|Gender|Age|Scholarship|Hypertension|Diabetes|Alcoholism|Handicap|SMS_received|No-show|Duration|\n",
      "+------+---+-----------+------------+--------+----------+--------+------------+-------+--------+\n",
      "|     0| 76|          0|           1|       0|         0|       0|           0|      0|  141789|\n",
      "|     0| 23|          0|           0|       0|         0|       0|           0|      1|  118488|\n",
      "|     0| 39|          0|           0|       0|         0|       0|           0|      1|  116402|\n",
      "|     0| 19|          0|           0|       0|         0|       0|           0|      0|  126695|\n",
      "|     0| 30|          0|           0|       0|         0|       0|           0|      0|  118909|\n",
      "|     1| 29|          0|           0|       0|         0|       0|           1|      1|  227748|\n",
      "|     0| 22|          1|           0|       0|         0|       0|           0|      0|   44769|\n",
      "|     1| 28|          0|           0|       0|         0|       0|           0|      0|   32873|\n",
      "|     0| 54|          0|           0|       0|         0|       0|           0|      0|   50016|\n",
      "|     0| 15|          0|           0|       0|         0|       0|           1|      0|  227553|\n",
      "|     1| 50|          0|           0|       0|         0|       0|           0|      0|   54493|\n",
      "|     0| 40|          1|           0|       0|         0|       0|           0|      1|   52263|\n",
      "|     0| 30|          1|           0|       0|         0|       0|           1|      0|  219942|\n",
      "|     0| 30|          0|           0|       0|         0|       0|           0|      1|  144526|\n",
      "|     0|  4|          0|           0|       0|         0|       0|           0|      1|  133755|\n",
      "|     1| 13|          0|           0|       0|         0|       0|           1|      1|  297044|\n",
      "|     0| 46|          0|           0|       0|         0|       0|           0|      0|   48775|\n",
      "|     1| 46|          0|           1|       0|         0|       0|           1|      0|  204943|\n",
      "|     0|  4|          0|           0|       0|         0|       0|           0|      0|  133695|\n",
      "|     0| 46|          0|           0|       0|         0|       0|           0|      0|  135308|\n",
      "+------+---+-----------+------------+--------+----------+--------+------------+-------+--------+\n",
      "only showing top 20 rows\n",
      "\n"
     ]
    }
   ],
   "source": [
    "df2.show()"
   ]
  },
  {
   "cell_type": "code",
   "execution_count": 40,
   "metadata": {},
   "outputs": [],
   "source": [
    "lr = LogisticRegression()"
   ]
  },
  {
   "cell_type": "code",
   "execution_count": 41,
   "metadata": {},
   "outputs": [
    {
     "name": "stdout",
     "output_type": "stream",
     "text": [
      "root\n",
      " |-- Gender: long (nullable = true)\n",
      " |-- Age: long (nullable = true)\n",
      " |-- Scholarship: long (nullable = true)\n",
      " |-- Hypertension: long (nullable = true)\n",
      " |-- Diabetes: long (nullable = true)\n",
      " |-- Alcoholism: long (nullable = true)\n",
      " |-- Handicap: long (nullable = true)\n",
      " |-- SMS_received: long (nullable = true)\n",
      " |-- No-show: long (nullable = true)\n",
      " |-- Duration: long (nullable = true)\n",
      "\n"
     ]
    }
   ],
   "source": [
    "df2.printSchema()"
   ]
  },
  {
   "cell_type": "code",
   "execution_count": 42,
   "metadata": {},
   "outputs": [],
   "source": [
    "assembler = VectorAssembler(inputCols=['Gender',\n",
    " 'Age',\n",
    " 'Scholarship',\n",
    " 'Hypertension',\n",
    " 'Diabetes',\n",
    " 'Alcoholism',\n",
    " 'SMS_received',\n",
    " 'Duration'],outputCol='features')"
   ]
  },
  {
   "cell_type": "code",
   "execution_count": 43,
   "metadata": {},
   "outputs": [],
   "source": [
    "from pyspark.ml import Pipeline"
   ]
  },
  {
   "cell_type": "code",
   "execution_count": 44,
   "metadata": {},
   "outputs": [],
   "source": [
    "log_reg_noshow = LogisticRegression(featuresCol='features',labelCol='No-show')"
   ]
  },
  {
   "cell_type": "code",
   "execution_count": 45,
   "metadata": {},
   "outputs": [],
   "source": [
    "pipeline = Pipeline(stages=[assembler,log_reg_noshow])"
   ]
  },
  {
   "cell_type": "code",
   "execution_count": 46,
   "metadata": {},
   "outputs": [],
   "source": [
    "train_noshow_data, test_noshow_data = df2.randomSplit([0.7,.3])"
   ]
  },
  {
   "cell_type": "code",
   "execution_count": 47,
   "metadata": {},
   "outputs": [],
   "source": [
    "fit_model = pipeline.fit(train_noshow_data)"
   ]
  },
  {
   "cell_type": "code",
   "execution_count": 48,
   "metadata": {},
   "outputs": [],
   "source": [
    "results = fit_model.transform(test_noshow_data)"
   ]
  },
  {
   "cell_type": "code",
   "execution_count": 49,
   "metadata": {},
   "outputs": [],
   "source": [
    "from pyspark.ml.evaluation import BinaryClassificationEvaluator\n",
    "\n",
    "my_eval = BinaryClassificationEvaluator(rawPredictionCol='prediction',\n",
    "                                       labelCol='No-show')"
   ]
  },
  {
   "cell_type": "code",
   "execution_count": 50,
   "metadata": {},
   "outputs": [
    {
     "name": "stdout",
     "output_type": "stream",
     "text": [
      "+-------+----------+\n",
      "|No-show|prediction|\n",
      "+-------+----------+\n",
      "|      0|       0.0|\n",
      "|      0|       0.0|\n",
      "|      0|       0.0|\n",
      "|      0|       0.0|\n",
      "|      0|       0.0|\n",
      "|      0|       0.0|\n",
      "|      0|       0.0|\n",
      "|      0|       0.0|\n",
      "|      0|       0.0|\n",
      "|      0|       0.0|\n",
      "|      0|       0.0|\n",
      "|      0|       0.0|\n",
      "|      0|       0.0|\n",
      "|      0|       0.0|\n",
      "|      0|       0.0|\n",
      "|      0|       0.0|\n",
      "|      0|       0.0|\n",
      "|      0|       0.0|\n",
      "|      0|       0.0|\n",
      "|      0|       0.0|\n",
      "+-------+----------+\n",
      "only showing top 20 rows\n",
      "\n"
     ]
    }
   ],
   "source": [
    "results.select('No-show','prediction').show()"
   ]
  },
  {
   "cell_type": "code",
   "execution_count": 51,
   "metadata": {},
   "outputs": [
    {
     "data": {
      "text/plain": [
       "0.5001623894380963"
      ]
     },
     "execution_count": 51,
     "metadata": {},
     "output_type": "execute_result"
    }
   ],
   "source": [
    "AUC = my_eval.evaluate(results)\n",
    "\n",
    "AUC"
   ]
  },
  {
   "cell_type": "code",
   "execution_count": 52,
   "metadata": {},
   "outputs": [],
   "source": [
    "#Tree Methods\n",
    "\n",
    "from pyspark.ml.linalg import Vectors\n",
    "from pyspark.ml.feature import VectorAssembler\n",
    "\n",
    "from pyspark.ml.classification import DecisionTreeClassifier,GBTClassifier,RandomForestClassifier"
   ]
  },
  {
   "cell_type": "code",
   "execution_count": 53,
   "metadata": {},
   "outputs": [],
   "source": [
    "dtc = DecisionTreeClassifier(labelCol='No-show',featuresCol='features')\n",
    "rfc = RandomForestClassifier(labelCol='No-show',featuresCol='features')\n",
    "gbt = GBTClassifier(labelCol='No-show',featuresCol='features')"
   ]
  },
  {
   "cell_type": "code",
   "execution_count": 54,
   "metadata": {},
   "outputs": [],
   "source": [
    "dtc = Pipeline(stages=[assembler,dtc])\n",
    "\n",
    "rfc = Pipeline(stages=[assembler,rfc])\n",
    "\n",
    "gbt = Pipeline(stages=[assembler,gbt])"
   ]
  },
  {
   "cell_type": "code",
   "execution_count": 55,
   "metadata": {},
   "outputs": [],
   "source": [
    "dtc_model = dtc.fit(train_noshow_data)\n",
    "\n",
    "rfc_model = rfc.fit(train_noshow_data)\n",
    "\n",
    "gbt_model = gbt.fit(train_noshow_data)"
   ]
  },
  {
   "cell_type": "code",
   "execution_count": 56,
   "metadata": {},
   "outputs": [],
   "source": [
    "dtc_predictions = dtc_model.transform(test_noshow_data)\n",
    "rfc_predictions = rfc_model.transform(test_noshow_data)\n",
    "gbt_predictions = gbt_model.transform(test_noshow_data)"
   ]
  },
  {
   "cell_type": "code",
   "execution_count": 57,
   "metadata": {},
   "outputs": [],
   "source": [
    "from pyspark.ml.evaluation import BinaryClassificationEvaluator"
   ]
  },
  {
   "cell_type": "code",
   "execution_count": 58,
   "metadata": {},
   "outputs": [],
   "source": [
    "my_binary_eval = BinaryClassificationEvaluator(labelCol = 'No-show')"
   ]
  },
  {
   "cell_type": "code",
   "execution_count": 59,
   "metadata": {},
   "outputs": [
    {
     "name": "stdout",
     "output_type": "stream",
     "text": [
      "DTC\n",
      "0.5316818646379727\n",
      "RFC\n",
      "0.6040326880894527\n",
      "GBT\n",
      "0.50376919725056\n"
     ]
    }
   ],
   "source": [
    "print(\"DTC\")\n",
    "print(my_binary_eval.evaluate(dtc_predictions))\n",
    "\n",
    "print(\"RFC\")\n",
    "print(my_binary_eval.evaluate(rfc_predictions))\n",
    "\n",
    "my_binary_gbt_eval = BinaryClassificationEvaluator(labelCol='No-show', rawPredictionCol='prediction')\n",
    "print(\"GBT\")\n",
    "print(my_binary_gbt_eval.evaluate(gbt_predictions))"
   ]
  },
  {
   "cell_type": "code",
   "execution_count": 60,
   "metadata": {},
   "outputs": [],
   "source": [
    "from pyspark.ml.evaluation import MulticlassClassificationEvaluator"
   ]
  },
  {
   "cell_type": "code",
   "execution_count": 61,
   "metadata": {},
   "outputs": [],
   "source": [
    "acc_evaluator = MulticlassClassificationEvaluator(labelCol=\"No-show\", predictionCol=\"prediction\", metricName=\"accuracy\")"
   ]
  },
  {
   "cell_type": "code",
   "execution_count": 62,
   "metadata": {},
   "outputs": [],
   "source": [
    "dtc_acc = acc_evaluator.evaluate(dtc_predictions)\n",
    "rfc_acc = acc_evaluator.evaluate(rfc_predictions)\n",
    "gbt_acc = acc_evaluator.evaluate(gbt_predictions)"
   ]
  },
  {
   "cell_type": "code",
   "execution_count": 63,
   "metadata": {},
   "outputs": [
    {
     "name": "stdout",
     "output_type": "stream",
     "text": [
      "Here are the results!\n",
      "----------------------------------------\n",
      "A single decision tree has an accuracy of: 71.70%\n",
      "----------------------------------------\n",
      "A random forest ensemble has an accuracy of: 71.75%\n",
      "----------------------------------------\n",
      "An ensemble using GBT has an accuracy of: 71.69%\n"
     ]
    }
   ],
   "source": [
    "print(\"Here are the results!\")\n",
    "print('-'*40)\n",
    "print('A single decision tree has an accuracy of: {0:2.2f}%'.format(dtc_acc*100))\n",
    "print('-'*40)\n",
    "print('A random forest ensemble has an accuracy of: {0:2.2f}%'.format(rfc_acc*100))\n",
    "print('-'*40)\n",
    "print('An ensemble using GBT has an accuracy of: {0:2.2f}%'.format(gbt_acc*100))"
   ]
  },
  {
   "cell_type": "code",
   "execution_count": null,
   "metadata": {},
   "outputs": [],
   "source": []
  },
  {
   "cell_type": "code",
   "execution_count": null,
   "metadata": {},
   "outputs": [],
   "source": []
  }
 ],
 "metadata": {
  "kernelspec": {
   "display_name": "Python 3",
   "language": "python",
   "name": "python3"
  },
  "language_info": {
   "codemirror_mode": {
    "name": "ipython",
    "version": 3
   },
   "file_extension": ".py",
   "mimetype": "text/x-python",
   "name": "python",
   "nbconvert_exporter": "python",
   "pygments_lexer": "ipython3",
   "version": "3.5.2"
  }
 },
 "nbformat": 4,
 "nbformat_minor": 2
}
